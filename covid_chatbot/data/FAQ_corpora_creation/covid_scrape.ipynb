{
 "cells": [
  {
   "cell_type": "markdown",
   "metadata": {},
   "source": [
    "## 1)"
   ]
  },
  {
   "cell_type": "code",
   "execution_count": null,
   "metadata": {},
   "outputs": [],
   "source": []
  },
  {
   "cell_type": "code",
   "execution_count": 35,
   "metadata": {},
   "outputs": [],
   "source": [
    "import urllib\n",
    "import requests\n",
    "from bs4 import BeautifulSoup\n",
    "import re\n",
    "\n",
    "link = \"https://www.weforum.org/agenda/2020/03/covid-19-your-questions-answered/\"\n",
    "page = urllib.request.urlopen(link)\n",
    "soup = BeautifulSoup(page, 'lxml')\n",
    "\n",
    "ques_heading = soup.findAll('h2',attrs={\"class\":\"st__content-block st__content-block--heading st__content-block--heading-1\"})\n",
    "ques1 = []\n",
    "for elem in ques_heading :\n",
    "    i = re.search(\"<b>.*</b>\",str(elem)).span()[0]\n",
    "    f = re.search(\"<b>.*</b>\",str(elem)).span()[1]\n",
    "    ques1.append(str(elem)[i+3 : f - 4])\n",
    "\n",
    "\n",
    "\n",
    "answer_heading = soup.findAll('div',attrs={\"class\":\"st__content-block st__content-block--text\"})\n",
    "answer1 = []\n",
    "for elem in answer_heading :\n",
    "    i = re.search(\"<p>.*</p>\",str(elem)).span()[0]\n",
    "    f = re.search(\"<p>.*</p>\",str(elem)).span()[1]\n",
    "    answer1.append(str(elem)[i+3 : f - 4])\n",
    "\n"
   ]
  },
  {
   "cell_type": "code",
   "execution_count": 36,
   "metadata": {},
   "outputs": [
    {
     "name": "stdout",
     "output_type": "stream",
     "text": [
      "['Can you have COVID-19 and show no symptoms? ', 'Can one get coronavirus for a second time? ', 'How long can the virus survive on surfaces? ', 'How has attention to other major illnesses (like cancer) been affected? ', 'Is it possible that one day this will happen again? ', 'Is there any vaccine for this virus? ']\n"
     ]
    }
   ],
   "source": [
    "print(ques1)"
   ]
  },
  {
   "cell_type": "code",
   "execution_count": 37,
   "metadata": {},
   "outputs": [],
   "source": [
    "#answer1 = [ans for ans in answer1 if 'https://' not in ans]\n",
    "#answer1 = [ans for ans in answer1 if not ans.startswith('<i>')]"
   ]
  },
  {
   "cell_type": "code",
   "execution_count": 38,
   "metadata": {},
   "outputs": [
    {
     "data": {
      "text/plain": [
       "['Can you have COVID-19 and show no symptoms? ',\n",
       " 'Can one get coronavirus for a second time? ',\n",
       " 'How long can the virus survive on surfaces? ',\n",
       " 'How has attention to other major illnesses (like cancer) been affected? ',\n",
       " 'Is it possible that one day this will happen again? ',\n",
       " 'Is there any vaccine for this virus? ']"
      ]
     },
     "execution_count": 38,
     "metadata": {},
     "output_type": "execute_result"
    }
   ],
   "source": [
    "ques1"
   ]
  },
  {
   "cell_type": "code",
   "execution_count": null,
   "metadata": {},
   "outputs": [],
   "source": []
  },
  {
   "cell_type": "code",
   "execution_count": 39,
   "metadata": {},
   "outputs": [],
   "source": [
    "filtered_ans1 = []\n",
    "for i,j in enumerate(answer1):\n",
    "    if i in [1,5,9,12,15,21]:\n",
    "        j = re.sub('<.*>',\"\", j)\n",
    "        filtered_ans1.append(j)"
   ]
  },
  {
   "cell_type": "code",
   "execution_count": 40,
   "metadata": {},
   "outputs": [
    {
     "data": {
      "text/plain": [
       "6"
      ]
     },
     "execution_count": 40,
     "metadata": {},
     "output_type": "execute_result"
    }
   ],
   "source": [
    "len(filtered_ans1)"
   ]
  },
  {
   "cell_type": "code",
   "execution_count": 19,
   "metadata": {},
   "outputs": [],
   "source": [
    "t = \"\"\"\n",
    "'This depends on the surface material and the amount of virus present. <a href=\"https://www.nejm.org/doi/full/10.1056/NEJMc2004973\" rel=\"noopener\" target=\"_blank\">A recent study</a> investigated the persistence of coronavirus on stainless steel, plastic, cardboard and copper. The authors used an initial virus concentration similar to that found in the respiratory tract of infected people. The virus remained detectable for between 10 hours and three days, with the shortest persistence on copper and the longest on plastic. <a href=\"https://www.medrxiv.org/content/10.1101/2020.03.05.20030502v1.full.pdf+html\" rel=\"noopener\" target=\"_blank\">Another study</a> that looked at the related virus SARS-CoV - the virus responsible for the SARS outbreak in 2003 - found it was detectable for up to nine days. However, just because a virus is detectable does not mean it poses a health risk. '\n",
    "\"\"\""
   ]
  },
  {
   "cell_type": "code",
   "execution_count": null,
   "metadata": {},
   "outputs": [],
   "source": []
  },
  {
   "cell_type": "markdown",
   "metadata": {},
   "source": [
    "# 2)"
   ]
  },
  {
   "cell_type": "code",
   "execution_count": null,
   "metadata": {},
   "outputs": [],
   "source": []
  },
  {
   "cell_type": "code",
   "execution_count": 29,
   "metadata": {},
   "outputs": [
    {
     "name": "stdout",
     "output_type": "stream",
     "text": [
      "<h3>What is a coronavirus?</h3>\n",
      "<h3>What is a novel coronavirus?</h3>\n",
      "<h3>Can humans become infected with a novel coronavirus of animal source?</h3>\n",
      "<h3>What are the symptoms of someone infected with a coronavirus?</h3>\n",
      "<h3>Can coronaviruses be transmitted from person to person?</h3>\n",
      "<h3>Is there a vaccine for a novel coronavirus?</h3>\n",
      "<h3>Is there a treatment for a novel coronavirus?</h3>\n",
      "<h3>What can I do to protect myself?</h3>\n",
      "<h3>Are health workers at risk from a novel coronavirus?</h3>\n",
      "<h3>What WHO recommendations for countries?</h3>\n",
      "<h3>Where can I find more information about known coronaviruses?</h3>\n",
      "<p>Coronaviruses are a large family of viruses that are known to cause illness ranging from the common cold to more severe diseases such as Middle East Respiratory Syndrome (MERS) and Severe Acute Respiratory Syndrome (SARS).</p>\n",
      "<p>A novel coronavirus (CoV) is a new strain of coronavirus that has not been previously identified in humans.</p>\n",
      "<p>Detailed investigations found that SARS-CoV was transmitted from civet cats to humans in China in 2002 and MERS-CoV from dromedary camels to humans in Saudi Arabia in 2012. Several known coronaviruses are circulating in animals that have not yet infected humans. As surveillance improves around the world, more coronaviruses are likely to be identified.</p>\n",
      "<p>It depends on the virus, but common signs include respiratory symptoms, fever, cough, shortness of breath, and breathing difficulties. In more severe cases, infection can cause pneumonia, severe acute respiratory syndrome, kidney failure and even death.</p>\n",
      "<p>Yes, some coronaviruses can be transmitted from person to person, usually after close contact with an infected patient, for example, in a household workplace, or health care centre.</p>\n",
      "<p>When a disease is new, there is no vaccine until one is developed. It can take a number of years for a new vaccine to be developed.</p>\n",
      "<p>There is no specific treatment for disease caused by a novel coronavirus. However, many of the symptoms can be treated and therefore treatment based on the patient’s clinical condition. Moreover, supportive care for infected persons can be highly effective.</p>\n",
      "<p>Standard recommendations to reduce exposure to and transmission of a range of illnesses include maintaining basic hand and respiratory hygiene, and safe food practices  and avoiding close contact, when possible, with anyone showing symptoms of respiratory illness such as coughing and sneezing.</p>\n",
      "<p>Yes, they can be, as health care workers come into contact with patients more often than the general public WHO recommends that health care workers consistently apply appropriate</p>\n",
      "<p>WHO encourages all countries to enhance their surveillance for severe acute respiratory infections (SARI), to carefully review any unusual patterns of SARI or pneumonia cases and to notify WHO of any suspected or confirmed case of infection with novel coronavirus.</p>\n",
      "<p>Countries are encouraged to continue strengthening their preparedness for health emergencies in line with the International Health Regulations (2005).</p>\n"
     ]
    }
   ],
   "source": [
    "import urllib\n",
    "import requests\n",
    "from bs4 import BeautifulSoup\n",
    "\n",
    "\n",
    "link = \"http://www.emro.who.int/health-topics/corona-virus/questions-and-answers.html\"\n",
    "page = urllib.request.urlopen(link)\n",
    "soup = BeautifulSoup(page, 'lxml')\n",
    "\n",
    "heading = soup.findAll('div',attrs={\"class\":\"article-content\"})\n",
    "\n",
    "\n",
    "\n",
    "\n",
    "\n",
    "ques2 = []\n",
    "for elem in re.findall(\"<h3>.*</h3>\",str(heading))[1:]:\n",
    "    print(elem)\n",
    "    i = re.search(\"<h3>.*</h3>\",str(elem)).span()[0]\n",
    "    f = re.search(\"<h3>.*</h3>\",str(elem)).span()[1]\n",
    "    con = elem[i+4 : f - 5]\n",
    "    ques2.append(con)\n",
    "\n",
    "answer2 = []\n",
    "l = len(re.findall(\"<p>.*</p>\",str(heading)))\n",
    "\n",
    "for elem in re.findall(\"<p>.*</p>\",str(heading))[0:l-2]:\n",
    "    print(elem)\n",
    "    i = re.search(\"<p>.*</p>\",str(elem)).span()[0]\n",
    "    f = re.search(\"<p>.*</p>\",str(elem)).span()[1]\n",
    "    con = elem[i+3 : f - 4]\n",
    "    answer2.append(con)\n",
    "    \n",
    "\n",
    "ques2.remove(ques2[-1])\n",
    "answer2.remove(answer2[-1])"
   ]
  },
  {
   "cell_type": "code",
   "execution_count": 50,
   "metadata": {},
   "outputs": [],
   "source": [
    "tot_ques = ques1 + ques2\n",
    "tot_ans = filtered_ans1 + answer2"
   ]
  },
  {
   "cell_type": "code",
   "execution_count": 49,
   "metadata": {},
   "outputs": [
    {
     "data": {
      "text/plain": [
       "(10, 10)"
      ]
     },
     "execution_count": 49,
     "metadata": {},
     "output_type": "execute_result"
    }
   ],
   "source": [
    "len(ques2), len(answer2)"
   ]
  },
  {
   "cell_type": "code",
   "execution_count": null,
   "metadata": {},
   "outputs": [],
   "source": []
  },
  {
   "cell_type": "code",
   "execution_count": null,
   "metadata": {},
   "outputs": [],
   "source": []
  },
  {
   "cell_type": "code",
   "execution_count": 31,
   "metadata": {},
   "outputs": [],
   "source": [
    "import pandas as pd\n",
    "\n",
    "FAQ = pd.read_excel('C:/Users/ABHISHEK DUBEY/Documents/Abhishek/Resources/AnythingButML/chatbot/data/FAQ.xlsx')"
   ]
  },
  {
   "cell_type": "code",
   "execution_count": 51,
   "metadata": {},
   "outputs": [],
   "source": [
    "temp = pd.DataFrame({'Question' : tot_ques, 'Answer' : tot_ans})"
   ]
  },
  {
   "cell_type": "code",
   "execution_count": 52,
   "metadata": {},
   "outputs": [],
   "source": [
    "FAQ = pd.concat([FAQ, temp], axis = 0)"
   ]
  },
  {
   "cell_type": "code",
   "execution_count": 53,
   "metadata": {},
   "outputs": [],
   "source": [
    "FAQ.to_excel('FAQ.xlsx', index = False)\n"
   ]
  },
  {
   "cell_type": "code",
   "execution_count": null,
   "metadata": {},
   "outputs": [],
   "source": []
  },
  {
   "cell_type": "code",
   "execution_count": null,
   "metadata": {},
   "outputs": [],
   "source": []
  },
  {
   "cell_type": "code",
   "execution_count": null,
   "metadata": {},
   "outputs": [],
   "source": []
  },
  {
   "cell_type": "code",
   "execution_count": null,
   "metadata": {},
   "outputs": [],
   "source": []
  },
  {
   "cell_type": "code",
   "execution_count": null,
   "metadata": {},
   "outputs": [],
   "source": []
  },
  {
   "cell_type": "code",
   "execution_count": null,
   "metadata": {},
   "outputs": [],
   "source": []
  },
  {
   "cell_type": "code",
   "execution_count": null,
   "metadata": {},
   "outputs": [],
   "source": []
  },
  {
   "cell_type": "code",
   "execution_count": null,
   "metadata": {},
   "outputs": [],
   "source": []
  },
  {
   "cell_type": "code",
   "execution_count": 56,
   "metadata": {},
   "outputs": [],
   "source": [
    "import pandas as pd\n",
    "import requests\n",
    "import json\n",
    "\n",
    "url1 = f'https://api.covid19india.org/data.json'\n",
    "url2 = f'https://api.covid19india.org/v2/state_district_wise.json'\n",
    "\n",
    "response1 = requests.get(url1)\n",
    "response1_dict = json.loads(response1.text)\n",
    "\n",
    "response2 = requests.get(url2)\n",
    "response2_dict = json.loads(response2.text)\n",
    "\n",
    "final_state_list = []\n",
    "final_district_list = []\n",
    "valid_distrcit_key = ['district','confirmed']\n",
    "valid_state_key = ['active','recovered','state','deaths','confirmed']\n",
    "\n",
    "for state_dict in response1_dict['statewise']:\n",
    "    temp = (list(map(lambda key,value :  key+\"#\"+value if key in valid_state_key else None , state_dict.keys(),state_dict.values() )))\n",
    "    final_state_list.append(\" \".join(list(filter(None, temp))) )\n",
    "\n",
    "for response in response2_dict:\n",
    "    state = response['state']\n",
    "    for district in response['districtData']:\n",
    "        temp = (list(map(lambda key,value :  key+\"#\"+str(value) if key in valid_distrcit_key else None  , district.keys(),district.values())))\n",
    "        final_district_list.append(\" \".join(list(filter(None, temp))))\n",
    "\n",
    "state_dataframe = pd.DataFrame({'Question' : final_state_list, 'Answer' : final_state_list})\n",
    "district_dataframe = pd.DataFrame({'Question':final_district_list,'Answer':final_district_list})\n",
    "final_dataframe = pd.concat([state_dataframe,district_dataframe])\n",
    "final_dataframe.to_excel('Data.xlsx',index=False);"
   ]
  },
  {
   "cell_type": "code",
   "execution_count": null,
   "metadata": {},
   "outputs": [],
   "source": []
  }
 ],
 "metadata": {
  "anaconda-cloud": {},
  "kernelspec": {
   "display_name": "Python 3",
   "language": "python",
   "name": "python3"
  },
  "language_info": {
   "codemirror_mode": {
    "name": "ipython",
    "version": 3
   },
   "file_extension": ".py",
   "mimetype": "text/x-python",
   "name": "python",
   "nbconvert_exporter": "python",
   "pygments_lexer": "ipython3",
   "version": "3.7.6"
  }
 },
 "nbformat": 4,
 "nbformat_minor": 2
}
