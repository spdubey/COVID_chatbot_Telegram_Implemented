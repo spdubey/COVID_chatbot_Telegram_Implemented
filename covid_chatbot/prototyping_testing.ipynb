{
 "cells": [
  {
   "cell_type": "code",
   "execution_count": 1,
   "metadata": {},
   "outputs": [],
   "source": [
    "from sklearn.feature_extraction.text import TfidfVectorizer\n",
    "from sklearn.metrics.pairwise import cosine_similarity\n",
    "import time\n",
    "from _nlp_ops import *\n",
    "import os"
   ]
  },
  {
   "cell_type": "markdown",
   "metadata": {},
   "source": [
    "### Appending all the data, data_text + data_fig  + data_query"
   ]
  },
  {
   "cell_type": "code",
   "execution_count": 2,
   "metadata": {},
   "outputs": [],
   "source": [
    "def create_data(query = '') :\n",
    "    data_path = os.getcwd()\n",
    "    data_path = data_path + '\\\\data\\\\'\n",
    "    data_text = pd.read_excel(data_path + 'FAQ.xlsx')\n",
    "    data_fig = pd.read_excel(data_path +'Data.xlsx')\n",
    "    #data_text = pd.read_excel('FAQ.xlsx')\n",
    "    #data_fig = pd.read_excel('Data.xlsx')\n",
    "    data_query = pd.DataFrame({'Question' : [query], 'Answer' : [None]})\n",
    "    return data_text, data_fig, data_query\n",
    "\n",
    "def cleaning_text_data(data, col):\n",
    "    data[col] = data[col].map(lambda row : replace_word_contractions(row))\n",
    "    data[col] = data[col].map(lambda row : remove_non_alphabet(row))\n",
    "    data[col] = data[col].map(lambda row : remove_URLs(row))\n",
    "    data[col] = data[col].map(lambda row : remove_digits(row))\n",
    "    data[col] = data[col].map(lambda row : remove_stop_words(row))\n",
    "    data[col] = data[col].map(lambda row : porter_stemmer(row))\n",
    "    data[col] = data[col].map(lambda row : wordnet_lemmatizer(row))\n",
    "    return data\n",
    "\n",
    "def cleaning_fig_data(data, col):\n",
    "    data[col] = data[col].map(lambda row : row.lower())\n",
    "    data[col] = data[col].map(lambda row : row.replace('#', ' '))\n",
    "    return data\n",
    "\n",
    "def feature_extraction(data, col):\n",
    "    tf_vect = TfidfVectorizer(lowercase=True,stop_words='english')\n",
    "    tf_matrix = tf_vect.fit_transform(data[col])\n",
    "    tf_names = tf_vect.get_feature_names()\n",
    "    X_tf_vect = pd.DataFrame(tf_matrix.toarray(), columns=tf_names)\n",
    "    return X_tf_vect, tf_names\n",
    "\n",
    "def calc_similarity(X_tf_vect):\n",
    "    similarity_score = []\n",
    "    target = X_tf_vect.iloc[X_tf_vect.index.stop - 1].values.tolist()\n",
    "    for i in range(0, len(X_tf_vect)):\n",
    "        candidate = X_tf_vect.iloc[i].values.tolist()\n",
    "        similarity_score.append(cosine_similarity([target], [candidate])[0][0])\n",
    "    X_tf_vect['sim_score'] = similarity_score\n",
    "    return X_tf_vect\n",
    "\n",
    "def greeting_check(text):\n",
    "    text = text.lower()\n",
    "    text = ''.join(sorted(set(text), key=text.index))\n",
    "    if np.any([True for each in ['hey', 'hi', 'hello', '/start', 'how are you'] if text.lower() in each]):\n",
    "        ans = \"\"\"Hello!! I am a new bot, still learning about corona virus information. I can help answer frequently asked questions about COVID -19 and about it's count in India state or city wise. Not sure what to ask? Try, How does COVID spread?' or 'Count in Odisha'\n",
    "                \"\"\"\n",
    "        return ans\n",
    "    elif np.any([True for each in ['bye', 'bye bye', 'thankyou', 'thank you','by'] if text.lower() in each]):\n",
    "        ans = \"\"\"Bye Bye!!\"\"\"\n",
    "        return ans\n",
    "        \n",
    "    return False"
   ]
  },
  {
   "cell_type": "code",
   "execution_count": 3,
   "metadata": {},
   "outputs": [],
   "source": [
    "def get_bot_reply(query):\n",
    "    #query = input()\n",
    "    #query = 'what is the death in chhattisgarh'\n",
    "    #print(\"Inside the get_bot_reply, and the question is {}\".format(query))\n",
    "    text_data, fig_data, query_data = create_data(query)\n",
    "    cleaned_text_data= cleaning_text_data(text_data, col ='Question')\n",
    "    cleaned_query_data = cleaning_text_data(query_data, col ='Question')\n",
    "    cleaned_fig_data = cleaning_fig_data(fig_data, col ='Question')\n",
    "    data_total = pd.concat([cleaned_text_data, cleaned_fig_data, cleaned_query_data]).reset_index(drop = True)\n",
    "\n",
    "    # feature exactraction\n",
    "    X_tf_vect, tf_names = feature_extraction(data_total, col = 'Question')\n",
    "    X_tf_vect = calc_similarity(X_tf_vect)\n",
    "    data_total_with_sim = pd.concat([data_total, X_tf_vect['sim_score']], axis = 1)\n",
    "    ans = data_total.loc[data_total_with_sim.sim_score[: len(data_total) -1].idxmax()][1]\n",
    "    #print(ans)\n",
    "    return ans\n",
    "    #print(\"\\n\")\n",
    "    #print(\"Any thing else??!!\")\n",
    "    #print(\"press 'y' to continue\")  "
   ]
  },
  {
   "cell_type": "code",
   "execution_count": 4,
   "metadata": {},
   "outputs": [
    {
     "data": {
      "text/plain": [
       "'People can catch COVID-19 from others who have the virus. The disease can spread from person to person through small droplets from the nose or mouth which are spread when a person with COVID-19 coughs or exhales. These droplets land on objects and surfaces around the person. Other people then catch COVID-19 by touching these objects or surfaces, then touching their eyes, nose or mouth. People can also catch COVID-19 if they breathe in droplets from a person with COVID-19 who coughs out or exhales droplets. This is why it is important to stay more than 1 meter (3 feet) away from a person who is sick. WHO is assessing ongoing research on the ways COVID-19 is spread and will continue to share updated findings.'"
      ]
     },
     "execution_count": 4,
     "metadata": {},
     "output_type": "execute_result"
    }
   ],
   "source": [
    "a = get_bot_reply('how does it spread?')\n",
    "\n",
    "a"
   ]
  },
  {
   "cell_type": "code",
   "execution_count": null,
   "metadata": {},
   "outputs": [],
   "source": []
  },
  {
   "cell_type": "code",
   "execution_count": null,
   "metadata": {},
   "outputs": [],
   "source": []
  },
  {
   "cell_type": "code",
   "execution_count": null,
   "metadata": {},
   "outputs": [],
   "source": []
  },
  {
   "cell_type": "code",
   "execution_count": null,
   "metadata": {},
   "outputs": [],
   "source": []
  },
  {
   "cell_type": "markdown",
   "metadata": {},
   "source": [
    "## Telegram communication"
   ]
  },
  {
   "cell_type": "code",
   "execution_count": 5,
   "metadata": {},
   "outputs": [],
   "source": [
    "import json \n",
    "import requests\n",
    "\n",
    "TOKEN = \"1157749429:AAFLd02TS_E4ZZtkd1asumI3EK6d7WgkeRE\"\n",
    "URL = \"https://api.telegram.org/bot{}/\".format(TOKEN)\n",
    "\n",
    "\n",
    "def get_url(url):\n",
    "    response = requests.get(url)\n",
    "    content = response.content.decode(\"utf8\")\n",
    "    return content\n",
    "\n",
    "\n",
    "def get_json_from_url(url):\n",
    "    content = get_url(url)\n",
    "    js = json.loads(content)\n",
    "    return js\n",
    "\n",
    "def get_updates(offset=None):\n",
    "    url = URL + \"getUpdates\"\n",
    "    if offset:\n",
    "        url += \"?offset={}\".format(offset)\n",
    "    js = get_json_from_url(url)\n",
    "    return js\n",
    "\n",
    "\n",
    "def get_last_chat_id_and_text(updates):\n",
    "    num_updates = len(updates[\"result\"])\n",
    "    last_update = num_updates - 1\n",
    "    text = updates[\"result\"][last_update][\"message\"][\"text\"]\n",
    "    chat_id = updates[\"result\"][last_update][\"message\"][\"chat\"][\"id\"]\n",
    "    return (text, chat_id)\n",
    "\n",
    "def get_last_update_id(updates):\n",
    "    update_ids = []\n",
    "    for update in updates[\"result\"]:\n",
    "        update_ids.append(int(update[\"update_id\"]))\n",
    "    return max(update_ids)\n",
    "\n",
    "def send_message(text, chat_id):\n",
    "    url = URL + \"sendMessage?text={}&chat_id={}\".format(text, chat_id)\n",
    "    get_url(url)\n",
    "\n",
    "    \n",
    "def echo_all(updates):\n",
    "    for update in updates[\"result\"]:\n",
    "        #print(\"inside echo all : \", update)\n",
    "        try:\n",
    "            print(update)\n",
    "            text = update[\"message\"][\"text\"]\n",
    "            chat = update[\"message\"][\"chat\"][\"id\"]\n",
    "            print(\"Question : \",text)\n",
    "            bot_answer = greeting_check(text)\n",
    "            if not bot_answer:\n",
    "                bot_answer = get_bot_reply(text)\n",
    "            print(\"Answer : \",bot_answer)\n",
    "            send_message(bot_answer.replace('#', ' '), chat)\n",
    "        except Exception as e:\n",
    "            print(e)\n",
    "\n",
    "\n"
   ]
  },
  {
   "cell_type": "code",
   "execution_count": null,
   "metadata": {},
   "outputs": [],
   "source": []
  },
  {
   "cell_type": "code",
   "execution_count": 8,
   "metadata": {},
   "outputs": [
    {
     "name": "stdout",
     "output_type": "stream",
     "text": [
      "{'update_id': 80065425, 'message': {'message_id': 493, 'from': {'id': 1226128895, 'is_bot': False, 'first_name': 'Shekhar', 'last_name': 'Dubey'}, 'chat': {'id': 1226128895, 'first_name': 'Shekhar', 'last_name': 'Dubey', 'type': 'private'}, 'date': 1586956614, 'text': '/start', 'entities': [{'offset': 0, 'length': 6, 'type': 'bot_command'}]}}\n",
      "Question :  /start\n",
      "Answer :  Hello!! I am a new bot, still learning about corona virus information. I can help answer frequently asked questions about COVID -19 and about it's count in India state or city wise. Not sure what to ask? Try, How does COVID spread?' or 'Count in Odisha'\n",
      "                \n",
      "{'update_id': 80065426, 'message': {'message_id': 494, 'from': {'id': 1162409252, 'is_bot': False, 'first_name': 'Saurav', 'last_name': 'Pal'}, 'chat': {'id': 1162409252, 'first_name': 'Saurav', 'last_name': 'Pal', 'type': 'private'}, 'date': 1586957736, 'text': '/start', 'entities': [{'offset': 0, 'length': 6, 'type': 'bot_command'}]}}\n",
      "Question :  /start\n",
      "Answer :  Hello!! I am a new bot, still learning about corona virus information. I can help answer frequently asked questions about COVID -19 and about it's count in India state or city wise. Not sure what to ask? Try, How does COVID spread?' or 'Count in Odisha'\n",
      "                \n",
      "{'update_id': 80065427, 'message': {'message_id': 495, 'from': {'id': 1162409252, 'is_bot': False, 'first_name': 'Saurav', 'last_name': 'Pal', 'language_code': 'en'}, 'chat': {'id': 1162409252, 'first_name': 'Saurav', 'last_name': 'Pal', 'type': 'private'}, 'date': 1586957747, 'text': 'Hi'}}\n",
      "Question :  Hi\n",
      "Answer :  Hello!! I am a new bot, still learning about corona virus information. I can help answer frequently asked questions about COVID -19 and about it's count in India state or city wise. Not sure what to ask? Try, How does COVID spread?' or 'Count in Odisha'\n",
      "                \n",
      "{'update_id': 80065428, 'message': {'message_id': 496, 'from': {'id': 1162409252, 'is_bot': False, 'first_name': 'Saurav', 'last_name': 'Pal', 'language_code': 'en'}, 'chat': {'id': 1162409252, 'first_name': 'Saurav', 'last_name': 'Pal', 'type': 'private'}, 'date': 1586957778, 'text': 'Raipur information about number of corona infection'}}\n",
      "Question :  Raipur information about number of corona infection\n",
      "Answer :  district#Raipur confirmed#5\n",
      "{'update_id': 80065429, 'message': {'message_id': 497, 'from': {'id': 1234120643, 'is_bot': False, 'first_name': 'Pooja', 'last_name': 'Dubey', 'language_code': 'en'}, 'chat': {'id': 1234120643, 'first_name': 'Pooja', 'last_name': 'Dubey', 'type': 'private'}, 'date': 1586958806, 'text': '/start', 'entities': [{'offset': 0, 'length': 6, 'type': 'bot_command'}]}}\n",
      "Question :  /start\n",
      "Answer :  Hello!! I am a new bot, still learning about corona virus information. I can help answer frequently asked questions about COVID -19 and about it's count in India state or city wise. Not sure what to ask? Try, How does COVID spread?' or 'Count in Odisha'\n",
      "                \n",
      "{'update_id': 80065430, 'message': {'message_id': 498, 'from': {'id': 1234120643, 'is_bot': False, 'first_name': 'Pooja', 'last_name': 'Dubey', 'language_code': 'en'}, 'chat': {'id': 1234120643, 'first_name': 'Pooja', 'last_name': 'Dubey', 'type': 'private'}, 'date': 1586958892, 'voice': {'duration': 6, 'mime_type': 'audio/ogg', 'file_id': 'AwACAgUAAxkBAAIB8l6XEiyD8ovq-S_lhjOz_Cn2qG8yAAI4AQACfHG5VMX1BpfyvK5YGAQ', 'file_unique_id': 'AgADOAEAAnxxuVQ', 'file_size': 22302}}}\n",
      "'text'\n",
      "{'update_id': 80065431, 'message': {'message_id': 499, 'from': {'id': 1234120643, 'is_bot': False, 'first_name': 'Pooja', 'last_name': 'Dubey', 'language_code': 'en'}, 'chat': {'id': 1234120643, 'first_name': 'Pooja', 'last_name': 'Dubey', 'type': 'private'}, 'date': 1586959041, 'text': 'What is the total count of COVID19 pateints in mumbai'}}\n",
      "Question :  What is the total count of COVID19 pateints in mumbai\n",
      "Answer :  COVID-19 is the infectious disease caused by the most recently discovered coronavirus. This new virus and disease were unknown before the outbreak began in Wuhan, China, in December 2019.\n",
      "{'update_id': 80065432, 'message': {'message_id': 500, 'from': {'id': 1234120643, 'is_bot': False, 'first_name': 'Pooja', 'last_name': 'Dubey', 'language_code': 'en'}, 'chat': {'id': 1234120643, 'first_name': 'Pooja', 'last_name': 'Dubey', 'type': 'private'}, 'date': 1586959170, 'text': 'What is the total counts of COVID19 patients?'}}\n",
      "Question :  What is the total counts of COVID19 patients?\n",
      "Answer :  COVID-19 is the infectious disease caused by the most recently discovered coronavirus. This new virus and disease were unknown before the outbreak began in Wuhan, China, in December 2019.\n",
      "{'update_id': 80065433, 'message': {'message_id': 501, 'from': {'id': 1234120643, 'is_bot': False, 'first_name': 'Pooja', 'last_name': 'Dubey', 'language_code': 'en'}, 'chat': {'id': 1234120643, 'first_name': 'Pooja', 'last_name': 'Dubey', 'type': 'private'}, 'date': 1586959193, 'text': 'What is the total counts of COVID19 patients in mumbai ?'}}\n",
      "Question :  What is the total counts of COVID19 patients in mumbai ?\n",
      "Answer :  COVID-19 is the infectious disease caused by the most recently discovered coronavirus. This new virus and disease were unknown before the outbreak began in Wuhan, China, in December 2019.\n",
      "{'update_id': 80065434, 'message': {'message_id': 502, 'from': {'id': 1234120643, 'is_bot': False, 'first_name': 'Pooja', 'last_name': 'Dubey', 'language_code': 'en'}, 'chat': {'id': 1234120643, 'first_name': 'Pooja', 'last_name': 'Dubey', 'type': 'private'}, 'date': 1586959200, 'voice': {'duration': 2, 'mime_type': 'audio/ogg', 'file_id': 'AwACAgUAAxkBAAIB9l6XE2DnxB3XIL1nGg3CGwQlHAkDAAI5AQACfHG5VM8_kRiaG1fyGAQ', 'file_unique_id': 'AgADOQEAAnxxuVQ', 'file_size': 9547}}}\n",
      "'text'\n",
      "{'update_id': 80065435, 'message': {'message_id': 511, 'from': {'id': 525886958, 'is_bot': False, 'first_name': 'Abhishek', 'last_name': 'Dubey', 'language_code': 'en'}, 'chat': {'id': 525886958, 'first_name': 'Abhishek', 'last_name': 'Dubey', 'type': 'private'}, 'date': 1586959603, 'text': 'Mumbai'}}\n",
      "Question :  Mumbai\n",
      "Answer :  district#Mumbai confirmed#1756\n",
      "{'update_id': 80065436, 'message': {'message_id': 513, 'from': {'id': 525886958, 'is_bot': False, 'first_name': 'Abhishek', 'last_name': 'Dubey', 'language_code': 'en'}, 'chat': {'id': 525886958, 'first_name': 'Abhishek', 'last_name': 'Dubey', 'type': 'private'}, 'date': 1586959618, 'text': 'What is the total cpunt of covid patients in mumbai'}}\n",
      "Question :  What is the total cpunt of covid patients in mumbai\n",
      "Answer :  COVID-19 is the infectious disease caused by the most recently discovered coronavirus. This new virus and disease were unknown before the outbreak began in Wuhan, China, in December 2019.\n",
      "{'update_id': 80065437, 'message': {'message_id': 515, 'from': {'id': 525886958, 'is_bot': False, 'first_name': 'Abhishek', 'last_name': 'Dubey', 'language_code': 'en'}, 'chat': {'id': 525886958, 'first_name': 'Abhishek', 'last_name': 'Dubey', 'type': 'private'}, 'date': 1586959695, 'text': 'Mumbai'}}\n",
      "Question :  Mumbai\n",
      "Answer :  district#Mumbai confirmed#1756\n",
      "{'update_id': 80065438, 'message': {'message_id': 517, 'from': {'id': 525886958, 'is_bot': False, 'first_name': 'Abhishek', 'last_name': 'Dubey', 'language_code': 'en'}, 'chat': {'id': 525886958, 'first_name': 'Abhishek', 'last_name': 'Dubey', 'type': 'private'}, 'date': 1586959698, 'text': 'Raipur'}}\n",
      "Question :  Raipur\n",
      "Answer :  district#Raipur confirmed#5\n",
      "{'update_id': 80065439, 'message': {'message_id': 519, 'from': {'id': 525886958, 'is_bot': False, 'first_name': 'Abhishek', 'last_name': 'Dubey', 'language_code': 'en'}, 'chat': {'id': 525886958, 'first_name': 'Abhishek', 'last_name': 'Dubey', 'type': 'private'}, 'date': 1586959706, 'text': 'Maharashtra'}}\n",
      "Question :  Maharashtra\n",
      "Answer :  active#2247 confirmed#2684 deaths#178 recovered#259 state#Maharashtra\n",
      "{'update_id': 80065440, 'message': {'message_id': 521, 'from': {'id': 1234120643, 'is_bot': False, 'first_name': 'Pooja', 'last_name': 'Dubey', 'language_code': 'en'}, 'chat': {'id': 1234120643, 'first_name': 'Pooja', 'last_name': 'Dubey', 'type': 'private'}, 'date': 1586959794, 'text': 'Count in Odisha?'}}\n",
      "Question :  Count in Odisha?\n"
     ]
    },
    {
     "name": "stdout",
     "output_type": "stream",
     "text": [
      "Answer :  active#41 confirmed#60 deaths#1 recovered#18 state#Odisha\n",
      "{'update_id': 80065441, 'message': {'message_id': 523, 'from': {'id': 1234120643, 'is_bot': False, 'first_name': 'Pooja', 'last_name': 'Dubey', 'language_code': 'en'}, 'chat': {'id': 1234120643, 'first_name': 'Pooja', 'last_name': 'Dubey', 'type': 'private'}, 'date': 1586959817, 'text': 'Count in Chhattisgarh?'}}\n",
      "Question :  Count in Chhattisgarh?\n",
      "Answer :  active#20 confirmed#33 deaths#0 recovered#13 state#Chhattisgarh\n",
      "{'update_id': 80065442, 'message': {'message_id': 525, 'from': {'id': 1226128895, 'is_bot': False, 'first_name': 'Shekhar', 'last_name': 'Dubey', 'language_code': 'en'}, 'chat': {'id': 1226128895, 'first_name': 'Shekhar', 'last_name': 'Dubey', 'type': 'private'}, 'date': 1586959832, 'video_note': {'duration': 5, 'length': 240, 'thumb': {'file_id': 'AAMCBQADGQEAAgINXpcV1200PoRaCIHFxEiGfgG0uzkAAjsBAAJyb7lUW7nLT4VGbOebSNdqdAADAQAHbQADjFAAAhgE', 'file_unique_id': 'AQADm0jXanQAA4xQAAI', 'file_size': 12522, 'width': 240, 'height': 240}, 'file_id': 'DQACAgUAAxkBAAICDV6XFddtND6EWgiBxcRIhn4BtLs5AAI7AQACcm-5VFu5y0-FRmznGAQ', 'file_unique_id': 'AgADOwEAAnJvuVQ', 'file_size': 243421}}}\n",
      "'text'\n",
      "{'update_id': 80065443, 'message': {'message_id': 526, 'from': {'id': 1234120643, 'is_bot': False, 'first_name': 'Pooja', 'last_name': 'Dubey', 'language_code': 'en'}, 'chat': {'id': 1234120643, 'first_name': 'Pooja', 'last_name': 'Dubey', 'type': 'private'}, 'date': 1586959836, 'text': 'Count in Raipur'}}\n",
      "Question :  Count in Raipur\n",
      "Answer :  district#Raipur confirmed#5\n",
      "{'update_id': 80065444, 'message': {'message_id': 528, 'from': {'id': 1226128895, 'is_bot': False, 'first_name': 'Shekhar', 'last_name': 'Dubey', 'language_code': 'en'}, 'chat': {'id': 1226128895, 'first_name': 'Shekhar', 'last_name': 'Dubey', 'type': 'private'}, 'date': 1586959843, 'video_note': {'duration': 4, 'length': 240, 'thumb': {'file_id': 'AAMCBQADGQEAAgIQXpcV43-is5txM_dGw2pQntQQtO8AAjwBAAJyb7lUPn98QAp0nQrJncxqdAADAQAHbQADgVYAAhgE', 'file_unique_id': 'AQADyZ3ManQAA4FWAAI', 'file_size': 13308, 'width': 240, 'height': 240}, 'file_id': 'DQACAgUAAxkBAAICEF6XFeN_orObcTP3RsNqUJ7UELTvAAI8AQACcm-5VD5_fEAKdJ0KGAQ', 'file_unique_id': 'AgADPAEAAnJvuVQ', 'file_size': 193318}}}\n",
      "'text'\n",
      "{'update_id': 80065445, 'message': {'message_id': 529, 'from': {'id': 1234120643, 'is_bot': False, 'first_name': 'Pooja', 'last_name': 'Dubey', 'language_code': 'en'}, 'chat': {'id': 1234120643, 'first_name': 'Pooja', 'last_name': 'Dubey', 'type': 'private'}, 'date': 1586959851, 'text': 'Count in mumbai'}}\n",
      "Question :  Count in mumbai\n",
      "Answer :  district#Mumbai confirmed#1756\n",
      "{'update_id': 80065446, 'message': {'message_id': 531, 'from': {'id': 1234120643, 'is_bot': False, 'first_name': 'Pooja', 'last_name': 'Dubey', 'language_code': 'en'}, 'chat': {'id': 1234120643, 'first_name': 'Pooja', 'last_name': 'Dubey', 'type': 'private'}, 'date': 1586959896, 'text': 'How does covid19 spread'}}\n",
      "Question :  How does covid19 spread\n",
      "Answer :  People can catch COVID-19 from others who have the virus. The disease can spread from person to person through small droplets from the nose or mouth which are spread when a person with COVID-19 coughs or exhales. These droplets land on objects and surfaces around the person. Other people then catch COVID-19 by touching these objects or surfaces, then touching their eyes, nose or mouth. People can also catch COVID-19 if they breathe in droplets from a person with COVID-19 who coughs out or exhales droplets. This is why it is important to stay more than 1 meter (3 feet) away from a person who is sick. WHO is assessing ongoing research on the ways COVID-19 is spread and will continue to share updated findings.\n",
      "{'update_id': 80065447, 'message': {'message_id': 533, 'from': {'id': 1234120643, 'is_bot': False, 'first_name': 'Pooja', 'last_name': 'Dubey', 'language_code': 'en'}, 'chat': {'id': 1234120643, 'first_name': 'Pooja', 'last_name': 'Dubey', 'type': 'private'}, 'date': 1586960300, 'text': 'From where covid19 spread'}}\n",
      "Question :  From where covid19 spread\n",
      "Answer :  People can catch COVID-19 from others who have the virus. The disease can spread from person to person through small droplets from the nose or mouth which are spread when a person with COVID-19 coughs or exhales. These droplets land on objects and surfaces around the person. Other people then catch COVID-19 by touching these objects or surfaces, then touching their eyes, nose or mouth. People can also catch COVID-19 if they breathe in droplets from a person with COVID-19 who coughs out or exhales droplets. This is why it is important to stay more than 1 meter (3 feet) away from a person who is sick. WHO is assessing ongoing research on the ways COVID-19 is spread and will continue to share updated findings.\n",
      "{'update_id': 80065448, 'message': {'message_id': 535, 'from': {'id': 1234120643, 'is_bot': False, 'first_name': 'Pooja', 'last_name': 'Dubey', 'language_code': 'en'}, 'chat': {'id': 1234120643, 'first_name': 'Pooja', 'last_name': 'Dubey', 'type': 'private'}, 'date': 1586960352, 'text': 'Which is the first country who caught covid19'}}\n",
      "Question :  Which is the first country who caught covid19\n",
      "Answer :  COVID-19 is the infectious disease caused by the most recently discovered coronavirus. This new virus and disease were unknown before the outbreak began in Wuhan, China, in December 2019.\n"
     ]
    },
    {
     "ename": "KeyboardInterrupt",
     "evalue": "",
     "output_type": "error",
     "traceback": [
      "\u001b[1;31m---------------------------------------------------------------------------\u001b[0m",
      "\u001b[1;31mKeyboardInterrupt\u001b[0m                         Traceback (most recent call last)",
      "\u001b[1;32m<ipython-input-8-4ec1b6652524>\u001b[0m in \u001b[0;36m<module>\u001b[1;34m\u001b[0m\n\u001b[0;32m     10\u001b[0m \u001b[1;33m\u001b[0m\u001b[0m\n\u001b[0;32m     11\u001b[0m \u001b[1;32mif\u001b[0m \u001b[0m__name__\u001b[0m \u001b[1;33m==\u001b[0m \u001b[1;34m'__main__'\u001b[0m\u001b[1;33m:\u001b[0m\u001b[1;33m\u001b[0m\u001b[1;33m\u001b[0m\u001b[0m\n\u001b[1;32m---> 12\u001b[1;33m     \u001b[0mmain\u001b[0m\u001b[1;33m(\u001b[0m\u001b[1;33m)\u001b[0m\u001b[1;33m\u001b[0m\u001b[1;33m\u001b[0m\u001b[0m\n\u001b[0m",
      "\u001b[1;32m<ipython-input-8-4ec1b6652524>\u001b[0m in \u001b[0;36mmain\u001b[1;34m()\u001b[0m\n\u001b[0;32m      6\u001b[0m             \u001b[0mlast_update_id\u001b[0m \u001b[1;33m=\u001b[0m \u001b[0mget_last_update_id\u001b[0m\u001b[1;33m(\u001b[0m\u001b[0mupdates\u001b[0m\u001b[1;33m)\u001b[0m \u001b[1;33m+\u001b[0m \u001b[1;36m1\u001b[0m\u001b[1;33m\u001b[0m\u001b[1;33m\u001b[0m\u001b[0m\n\u001b[0;32m      7\u001b[0m             \u001b[0mecho_all\u001b[0m\u001b[1;33m(\u001b[0m\u001b[0mupdates\u001b[0m\u001b[1;33m)\u001b[0m\u001b[1;33m\u001b[0m\u001b[1;33m\u001b[0m\u001b[0m\n\u001b[1;32m----> 8\u001b[1;33m         \u001b[0mtime\u001b[0m\u001b[1;33m.\u001b[0m\u001b[0msleep\u001b[0m\u001b[1;33m(\u001b[0m\u001b[1;36m0.5\u001b[0m\u001b[1;33m)\u001b[0m\u001b[1;33m\u001b[0m\u001b[1;33m\u001b[0m\u001b[0m\n\u001b[0m\u001b[0;32m      9\u001b[0m \u001b[1;33m\u001b[0m\u001b[0m\n\u001b[0;32m     10\u001b[0m \u001b[1;33m\u001b[0m\u001b[0m\n",
      "\u001b[1;31mKeyboardInterrupt\u001b[0m: "
     ]
    }
   ],
   "source": [
    "def main():\n",
    "    last_update_id = None\n",
    "    while True:\n",
    "        updates = get_updates(last_update_id)\n",
    "        if len(updates[\"result\"]) > 0:\n",
    "            last_update_id = get_last_update_id(updates) + 1\n",
    "            echo_all(updates)\n",
    "        time.sleep(0.5)\n",
    "\n",
    "\n",
    "if __name__ == '__main__':\n",
    "    main()"
   ]
  },
  {
   "cell_type": "code",
   "execution_count": null,
   "metadata": {},
   "outputs": [],
   "source": []
  },
  {
   "cell_type": "code",
   "execution_count": null,
   "metadata": {},
   "outputs": [],
   "source": []
  },
  {
   "cell_type": "code",
   "execution_count": null,
   "metadata": {},
   "outputs": [],
   "source": [
    "#get_bot_reply('mumbai')"
   ]
  },
  {
   "cell_type": "code",
   "execution_count": 38,
   "metadata": {},
   "outputs": [
    {
     "data": {
      "text/plain": [
       "'active#1014 confirmed#1075 deaths#11 recovered#50 state#Tamil Nadu'"
      ]
     },
     "execution_count": 38,
     "metadata": {},
     "output_type": "execute_result"
    }
   ],
   "source": [
    "#get_bot_reply('tamil')"
   ]
  },
  {
   "cell_type": "code",
   "execution_count": null,
   "metadata": {},
   "outputs": [],
   "source": []
  },
  {
   "cell_type": "code",
   "execution_count": null,
   "metadata": {},
   "outputs": [],
   "source": []
  },
  {
   "cell_type": "code",
   "execution_count": null,
   "metadata": {},
   "outputs": [],
   "source": []
  },
  {
   "cell_type": "code",
   "execution_count": null,
   "metadata": {},
   "outputs": [],
   "source": []
  },
  {
   "cell_type": "code",
   "execution_count": null,
   "metadata": {},
   "outputs": [],
   "source": []
  },
  {
   "cell_type": "code",
   "execution_count": null,
   "metadata": {},
   "outputs": [],
   "source": []
  },
  {
   "cell_type": "code",
   "execution_count": null,
   "metadata": {},
   "outputs": [],
   "source": [
    "# Steps for deploying\n",
    "\n",
    "#1) create token from bot father\n",
    "#2) create virtual env \n",
    "#3) activate vir env\n",
    "\n"
   ]
  },
  {
   "cell_type": "code",
   "execution_count": null,
   "metadata": {},
   "outputs": [],
   "source": [
    "# requirements.txt\n",
    "'''\n",
    "sklearn\n",
    "nltk\n",
    "flask\n",
    "\n",
    "'''"
   ]
  },
  {
   "cell_type": "code",
   "execution_count": 14,
   "metadata": {},
   "outputs": [],
   "source": []
  },
  {
   "cell_type": "code",
   "execution_count": null,
   "metadata": {},
   "outputs": [],
   "source": []
  },
  {
   "cell_type": "code",
   "execution_count": null,
   "metadata": {},
   "outputs": [],
   "source": []
  },
  {
   "cell_type": "code",
   "execution_count": 5,
   "metadata": {},
   "outputs": [],
   "source": []
  },
  {
   "cell_type": "code",
   "execution_count": null,
   "metadata": {},
   "outputs": [],
   "source": []
  }
 ],
 "metadata": {
  "kernelspec": {
   "display_name": "Python 3",
   "language": "python",
   "name": "python3"
  },
  "language_info": {
   "codemirror_mode": {
    "name": "ipython",
    "version": 3
   },
   "file_extension": ".py",
   "mimetype": "text/x-python",
   "name": "python",
   "nbconvert_exporter": "python",
   "pygments_lexer": "ipython3",
   "version": "3.7.6"
  }
 },
 "nbformat": 4,
 "nbformat_minor": 4
}
